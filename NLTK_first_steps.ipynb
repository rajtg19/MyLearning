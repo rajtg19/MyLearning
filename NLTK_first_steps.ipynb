{
  "nbformat": 4,
  "nbformat_minor": 0,
  "metadata": {
    "colab": {
      "name": "NLTK first steps.ipynb",
      "provenance": [],
      "authorship_tag": "ABX9TyNjSpWJVtTiGSIKWRF5yp/y",
      "include_colab_link": true
    },
    "kernelspec": {
      "name": "python3",
      "display_name": "Python 3"
    }
  },
  "cells": [
    {
      "cell_type": "markdown",
      "metadata": {
        "id": "view-in-github",
        "colab_type": "text"
      },
      "source": [
        "<a href=\"https://colab.research.google.com/github/rajtg19/MyLearning/blob/main/NLTK_first_steps.ipynb\" target=\"_parent\"><img src=\"https://colab.research.google.com/assets/colab-badge.svg\" alt=\"Open In Colab\"/></a>"
      ]
    },
    {
      "cell_type": "code",
      "metadata": {
        "id": "SMvcYwabNm_i"
      },
      "source": [
        "text = \"Hi John, How are you doing ? I will be travelling to your city. Let's catchup\""
      ],
      "execution_count": 1,
      "outputs": []
    },
    {
      "cell_type": "code",
      "metadata": {
        "colab": {
          "base_uri": "https://localhost:8080/"
        },
        "id": "VrkHfkzJOjup",
        "outputId": "704339e5-22e9-4cc0-8669-47ff3d157b8d"
      },
      "source": [
        "import nltk\r\n",
        "nltk.download('punkt')\r\n",
        "nltk.download('wordnet')"
      ],
      "execution_count": 22,
      "outputs": [
        {
          "output_type": "stream",
          "text": [
            "[nltk_data] Downloading package punkt to /root/nltk_data...\n",
            "[nltk_data]   Package punkt is already up-to-date!\n",
            "[nltk_data] Downloading package wordnet to /root/nltk_data...\n",
            "[nltk_data]   Unzipping corpora/wordnet.zip.\n"
          ],
          "name": "stdout"
        },
        {
          "output_type": "execute_result",
          "data": {
            "text/plain": [
              "True"
            ]
          },
          "metadata": {
            "tags": []
          },
          "execution_count": 22
        }
      ]
    },
    {
      "cell_type": "code",
      "metadata": {
        "id": "lDdi_KF-N2E1"
      },
      "source": [
        "#!pip install nltk\r\n",
        "from nltk import sent_tokenize, word_tokenize"
      ],
      "execution_count": 12,
      "outputs": []
    },
    {
      "cell_type": "code",
      "metadata": {
        "colab": {
          "base_uri": "https://localhost:8080/"
        },
        "id": "z9adXxRfOWG9",
        "outputId": "d4d7bc52-3cea-4850-d924-89ea1f5ef477"
      },
      "source": [
        "sent_tokenize(text)"
      ],
      "execution_count": 13,
      "outputs": [
        {
          "output_type": "execute_result",
          "data": {
            "text/plain": [
              "['Hi John, How are you doing ?',\n",
              " 'I will be travelling to your city.',\n",
              " \"Let's catchup\"]"
            ]
          },
          "metadata": {
            "tags": []
          },
          "execution_count": 13
        }
      ]
    },
    {
      "cell_type": "code",
      "metadata": {
        "colab": {
          "base_uri": "https://localhost:8080/"
        },
        "id": "wsqBLKfLOzH4",
        "outputId": "b29902a7-74c4-45d6-a47d-cbcd784580b8"
      },
      "source": [
        "word_tokenize(text)"
      ],
      "execution_count": 14,
      "outputs": [
        {
          "output_type": "execute_result",
          "data": {
            "text/plain": [
              "['Hi',\n",
              " 'John',\n",
              " ',',\n",
              " 'How',\n",
              " 'are',\n",
              " 'you',\n",
              " 'doing',\n",
              " '?',\n",
              " 'I',\n",
              " 'will',\n",
              " 'be',\n",
              " 'travelling',\n",
              " 'to',\n",
              " 'your',\n",
              " 'city',\n",
              " '.',\n",
              " 'Let',\n",
              " \"'s\",\n",
              " 'catchup']"
            ]
          },
          "metadata": {
            "tags": []
          },
          "execution_count": 14
        }
      ]
    },
    {
      "cell_type": "code",
      "metadata": {
        "colab": {
          "base_uri": "https://localhost:8080/"
        },
        "id": "NMyQBnA0O2dT",
        "outputId": "26e863ff-dd7b-4646-c597-e372e8c03d7d"
      },
      "source": [
        "#Stemming - Normalization step - Not a good choice\r\n",
        "\r\n",
        "from nltk import PorterStemmer\r\n",
        "\r\n",
        "stmmr= PorterStemmer()\r\n",
        "\r\n",
        "print(stmmr.stem(\"Singing\"))\r\n",
        "print(stmmr.stem(\"Increases\"))"
      ],
      "execution_count": 18,
      "outputs": [
        {
          "output_type": "stream",
          "text": [
            "sing\n",
            "increas\n"
          ],
          "name": "stdout"
        }
      ]
    },
    {
      "cell_type": "code",
      "metadata": {
        "colab": {
          "base_uri": "https://localhost:8080/"
        },
        "id": "CkBhDVevP6Fz",
        "outputId": "5c2e073b-cb0d-4563-9b2e-e91f96a5711d"
      },
      "source": [
        "from nltk import WordNetLemmatizer\r\n",
        "nltk.download('wordnet')\r\n",
        "\r\n",
        "lemtzr = WordNetLemmatizer()\r\n",
        "\r\n",
        "print(lemtzr.lemmatize(\"singing\"))\r\n",
        "print(lemtzr.lemmatize(\"Increases\"))\r\n",
        "print(lemtzr.lemmatize(\"Running\",pos=\"v\"))\r\n",
        "print(lemtzr.lemmatize(\"running\",pos=\"v\"))\r\n",
        "print(lemtzr.lemmatize(\"controlling\",pos=\"v\"))"
      ],
      "execution_count": 54,
      "outputs": [
        {
          "output_type": "stream",
          "text": [
            "[nltk_data] Downloading package wordnet to /root/nltk_data...\n",
            "[nltk_data]   Package wordnet is already up-to-date!\n",
            "singing\n",
            "Increases\n",
            "Running\n",
            "run\n",
            "control\n"
          ],
          "name": "stdout"
        }
      ]
    },
    {
      "cell_type": "code",
      "metadata": {
        "colab": {
          "base_uri": "https://localhost:8080/"
        },
        "id": "QnlMuYEHPxtO",
        "outputId": "17965215-59c7-4ba2-c12c-775d5e095721"
      },
      "source": [
        "from nltk import pos_tag\r\n",
        "#nltk.download('averaged_perceptron_tagger')\r\n",
        "\r\n",
        "text = \"I am planning to visit New Delhi to attend Analytics Vidhya Delhi Hackathon\"\r\n",
        "words = word_tokenize(text)\r\n",
        "pos_tag(words)"
      ],
      "execution_count": 47,
      "outputs": [
        {
          "output_type": "execute_result",
          "data": {
            "text/plain": [
              "[('I', 'PRP'),\n",
              " ('am', 'VBP'),\n",
              " ('planning', 'VBG'),\n",
              " ('to', 'TO'),\n",
              " ('visit', 'VB'),\n",
              " ('New', 'NNP'),\n",
              " ('Delhi', 'NNP'),\n",
              " ('to', 'TO'),\n",
              " ('attend', 'VB'),\n",
              " ('Analytics', 'NNP'),\n",
              " ('Vidhya', 'NNP'),\n",
              " ('Delhi', 'NNP'),\n",
              " ('Hackathon', 'NNP')]"
            ]
          },
          "metadata": {
            "tags": []
          },
          "execution_count": 47
        }
      ]
    },
    {
      "cell_type": "code",
      "metadata": {
        "colab": {
          "base_uri": "https://localhost:8080/"
        },
        "id": "ucg0ldUFSDjT",
        "outputId": "e3ebe0db-d5a0-45cc-a4a2-795470967a73"
      },
      "source": [
        "from nltk.corpus import wordnet\r\n",
        "\r\n",
        "wordnet.synsets(\"Computer\")"
      ],
      "execution_count": 41,
      "outputs": [
        {
          "output_type": "execute_result",
          "data": {
            "text/plain": [
              "[Synset('computer.n.01'), Synset('calculator.n.01')]"
            ]
          },
          "metadata": {
            "tags": []
          },
          "execution_count": 41
        }
      ]
    },
    {
      "cell_type": "code",
      "metadata": {
        "colab": {
          "base_uri": "https://localhost:8080/"
        },
        "id": "PzeQkBXtShpB",
        "outputId": "d4fccc68-1962-45e9-e8df-6853ced8067e"
      },
      "source": [
        "from nltk import ngrams\r\n",
        "\r\n",
        "bigrams = ngrams(word_tokenize(text), 3)\r\n",
        "#for each in bigrams:\r\n",
        "  #print(each)\r\n",
        "\r\n",
        "#or can use\r\n",
        "\r\n",
        "print(''.join(str(each) for each in bigrams))"
      ],
      "execution_count": 52,
      "outputs": [
        {
          "output_type": "stream",
          "text": [
            "('I', 'am', 'planning')('am', 'planning', 'to')('planning', 'to', 'visit')('to', 'visit', 'New')('visit', 'New', 'Delhi')('New', 'Delhi', 'to')('Delhi', 'to', 'attend')('to', 'attend', 'Analytics')('attend', 'Analytics', 'Vidhya')('Analytics', 'Vidhya', 'Delhi')('Vidhya', 'Delhi', 'Hackathon')\n"
          ],
          "name": "stdout"
        }
      ]
    }
  ]
}