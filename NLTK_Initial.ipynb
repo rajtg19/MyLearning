{
  "nbformat": 4,
  "nbformat_minor": 0,
  "metadata": {
    "colab": {
      "name": "NLTK Initial.ipynb",
      "provenance": [],
      "authorship_tag": "ABX9TyO23UNcTtKK+R9ZtEnpwrbb",
      "include_colab_link": true
    },
    "kernelspec": {
      "name": "python3",
      "display_name": "Python 3"
    }
  },
  "cells": [
    {
      "cell_type": "markdown",
      "metadata": {
        "id": "view-in-github",
        "colab_type": "text"
      },
      "source": [
        "<a href=\"https://colab.research.google.com/github/rajtg19/MyLearning/blob/main/NLTK_Initial.ipynb\" target=\"_parent\"><img src=\"https://colab.research.google.com/assets/colab-badge.svg\" alt=\"Open In Colab\"/></a>"
      ]
    },
    {
      "cell_type": "code",
      "metadata": {
        "id": "SMvcYwabNm_i"
      },
      "source": [
        "text = \"Hi John, How are you doing ? I will be travelling to your city. Let's catchup\""
      ],
      "execution_count": 1,
      "outputs": []
    },
    {
      "cell_type": "code",
      "metadata": {
        "colab": {
          "base_uri": "https://localhost:8080/"
        },
        "id": "VrkHfkzJOjup",
        "outputId": "704339e5-22e9-4cc0-8669-47ff3d157b8d"
      },
      "source": [
        "import nltk\r\n",
        "nltk.download('punkt')\r\n",
        "nltk.download('wordnet')"
      ],
      "execution_count": 22,
      "outputs": [
        {
          "output_type": "stream",
          "text": [
            "[nltk_data] Downloading package punkt to /root/nltk_data...\n",
            "[nltk_data]   Package punkt is already up-to-date!\n",
            "[nltk_data] Downloading package wordnet to /root/nltk_data...\n",
            "[nltk_data]   Unzipping corpora/wordnet.zip.\n"
          ],
          "name": "stdout"
        },
        {
          "output_type": "execute_result",
          "data": {
            "text/plain": [
              "True"
            ]
          },
          "metadata": {
            "tags": []
          },
          "execution_count": 22
        }
      ]
    },
    {
      "cell_type": "code",
      "metadata": {
        "id": "lDdi_KF-N2E1"
      },
      "source": [
        "#!pip install nltk\r\n",
        "from nltk import sent_tokenize, word_tokenize"
      ],
      "execution_count": 12,
      "outputs": []
    },
    {
      "cell_type": "code",
      "metadata": {
        "colab": {
          "base_uri": "https://localhost:8080/"
        },
        "id": "z9adXxRfOWG9",
        "outputId": "d4d7bc52-3cea-4850-d924-89ea1f5ef477"
      },
      "source": [
        "sent_tokenize(text)"
      ],
      "execution_count": 13,
      "outputs": [
        {
          "output_type": "execute_result",
          "data": {
            "text/plain": [
              "['Hi John, How are you doing ?',\n",
              " 'I will be travelling to your city.',\n",
              " \"Let's catchup\"]"
            ]
          },
          "metadata": {
            "tags": []
          },
          "execution_count": 13
        }
      ]
    },
    {
      "cell_type": "code",
      "metadata": {
        "colab": {
          "base_uri": "https://localhost:8080/"
        },
        "id": "wsqBLKfLOzH4",
        "outputId": "b29902a7-74c4-45d6-a47d-cbcd784580b8"
      },
      "source": [
        "word_tokenize(text)"
      ],
      "execution_count": 14,
      "outputs": [
        {
          "output_type": "execute_result",
          "data": {
            "text/plain": [
              "['Hi',\n",
              " 'John',\n",
              " ',',\n",
              " 'How',\n",
              " 'are',\n",
              " 'you',\n",
              " 'doing',\n",
              " '?',\n",
              " 'I',\n",
              " 'will',\n",
              " 'be',\n",
              " 'travelling',\n",
              " 'to',\n",
              " 'your',\n",
              " 'city',\n",
              " '.',\n",
              " 'Let',\n",
              " \"'s\",\n",
              " 'catchup']"
            ]
          },
          "metadata": {
            "tags": []
          },
          "execution_count": 14
        }
      ]
    },
    {
      "cell_type": "code",
      "metadata": {
        "colab": {
          "base_uri": "https://localhost:8080/"
        },
        "id": "NMyQBnA0O2dT",
        "outputId": "26e863ff-dd7b-4646-c597-e372e8c03d7d"
      },
      "source": [
        "#Stemming - Normalization step - Not a good choice\r\n",
        "\r\n",
        "from nltk import PorterStemmer\r\n",
        "\r\n",
        "stmmr= PorterStemmer()\r\n",
        "\r\n",
        "print(stmmr.stem(\"Singing\"))\r\n",
        "print(stmmr.stem(\"Increases\"))"
      ],
      "execution_count": 18,
      "outputs": [
        {
          "output_type": "stream",
          "text": [
            "sing\n",
            "increas\n"
          ],
          "name": "stdout"
        }
      ]
    },
    {
      "cell_type": "code",
      "metadata": {
        "colab": {
          "base_uri": "https://localhost:8080/"
        },
        "id": "CkBhDVevP6Fz",
        "outputId": "74d39ad8-404a-4e25-e710-079f14038c22"
      },
      "source": [
        "from nltk import WordNetLemmatizer\r\n",
        "nltk.download('wordnet')\r\n",
        "\r\n",
        "lemtzr = WordNetLemmatizer()\r\n",
        "\r\n",
        "print(lemtzr.lemmatize(\"singing\"))\r\n",
        "print(lemtzr.lemmatize(\"Increases\"))\r\n",
        "print(lemtzr.lemmatize(\"Running\",pos=\"v\"))\r\n",
        "print(lemtzr.lemmatize(\"running\",pos=\"v\"))"
      ],
      "execution_count": 33,
      "outputs": [
        {
          "output_type": "stream",
          "text": [
            "[nltk_data] Downloading package wordnet to /root/nltk_data...\n",
            "[nltk_data]   Package wordnet is already up-to-date!\n",
            "singing\n",
            "Increases\n",
            "Running\n",
            "run\n"
          ],
          "name": "stdout"
        }
      ]
    },
    {
      "cell_type": "code",
      "metadata": {
        "colab": {
          "base_uri": "https://localhost:8080/"
        },
        "id": "QnlMuYEHPxtO",
        "outputId": "3678d8c3-c8f9-42b2-c0c9-ec10f139281a"
      },
      "source": [
        "from nltk import pos_tag\r\n",
        "#nltk.download('averaged_perceptron_tagger')\r\n",
        "\r\n",
        "words = word_tokenize(text)\r\n",
        "pos_tag(words)"
      ],
      "execution_count": 37,
      "outputs": [
        {
          "output_type": "execute_result",
          "data": {
            "text/plain": [
              "[('Hi', 'NNP'),\n",
              " ('John', 'NNP'),\n",
              " (',', ','),\n",
              " ('How', 'NNP'),\n",
              " ('are', 'VBP'),\n",
              " ('you', 'PRP'),\n",
              " ('doing', 'VBG'),\n",
              " ('?', '.'),\n",
              " ('I', 'PRP'),\n",
              " ('will', 'MD'),\n",
              " ('be', 'VB'),\n",
              " ('travelling', 'VBG'),\n",
              " ('to', 'TO'),\n",
              " ('your', 'PRP$'),\n",
              " ('city', 'NN'),\n",
              " ('.', '.'),\n",
              " ('Let', 'VB'),\n",
              " (\"'s\", 'POS'),\n",
              " ('catchup', 'NN')]"
            ]
          },
          "metadata": {
            "tags": []
          },
          "execution_count": 37
        }
      ]
    },
    {
      "cell_type": "code",
      "metadata": {
        "colab": {
          "base_uri": "https://localhost:8080/"
        },
        "id": "ucg0ldUFSDjT",
        "outputId": "e3ebe0db-d5a0-45cc-a4a2-795470967a73"
      },
      "source": [
        "from nltk.corpus import wordnet\r\n",
        "\r\n",
        "wordnet.synsets(\"Computer\")"
      ],
      "execution_count": 41,
      "outputs": [
        {
          "output_type": "execute_result",
          "data": {
            "text/plain": [
              "[Synset('computer.n.01'), Synset('calculator.n.01')]"
            ]
          },
          "metadata": {
            "tags": []
          },
          "execution_count": 41
        }
      ]
    },
    {
      "cell_type": "code",
      "metadata": {
        "colab": {
          "base_uri": "https://localhost:8080/"
        },
        "id": "PzeQkBXtShpB",
        "outputId": "02925901-2554-4059-aff4-e2d95e64386f"
      },
      "source": [
        "from nltk import ngrams\r\n",
        "\r\n",
        "bigrams = ngrams(word_tokenize(text), 3)\r\n",
        "for each in bigrams:\r\n",
        "  print(each)"
      ],
      "execution_count": 46,
      "outputs": [
        {
          "output_type": "stream",
          "text": [
            "('Hi', 'John', ',')\n",
            "('John', ',', 'How')\n",
            "(',', 'How', 'are')\n",
            "('How', 'are', 'you')\n",
            "('are', 'you', 'doing')\n",
            "('you', 'doing', '?')\n",
            "('doing', '?', 'I')\n",
            "('?', 'I', 'will')\n",
            "('I', 'will', 'be')\n",
            "('will', 'be', 'travelling')\n",
            "('be', 'travelling', 'to')\n",
            "('travelling', 'to', 'your')\n",
            "('to', 'your', 'city')\n",
            "('your', 'city', '.')\n",
            "('city', '.', 'Let')\n",
            "('.', 'Let', \"'s\")\n",
            "('Let', \"'s\", 'catchup')\n"
          ],
          "name": "stdout"
        }
      ]
    }
  ]
}