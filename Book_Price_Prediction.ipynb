{
  "nbformat": 4,
  "nbformat_minor": 0,
  "metadata": {
    "colab": {
      "name": "Book Price Prediction.ipynb",
      "provenance": [],
      "authorship_tag": "ABX9TyM+iv3Sl7mHDpjw3sFi8Mk1",
      "include_colab_link": true
    },
    "kernelspec": {
      "name": "python3",
      "display_name": "Python 3"
    }
  },
  "cells": [
    {
      "cell_type": "markdown",
      "metadata": {
        "id": "view-in-github",
        "colab_type": "text"
      },
      "source": [
        "<a href=\"https://colab.research.google.com/github/rajtg19/MyLearning/blob/main/Book_Price_Prediction.ipynb\" target=\"_parent\"><img src=\"https://colab.research.google.com/assets/colab-badge.svg\" alt=\"Open In Colab\"/></a>"
      ]
    },
    {
      "cell_type": "code",
      "metadata": {
        "id": "6nvGdYTtuuUx"
      },
      "source": [
        "import pandas as pd"
      ],
      "execution_count": 1,
      "outputs": []
    },
    {
      "cell_type": "code",
      "metadata": {
        "colab": {
          "base_uri": "https://localhost:8080/",
          "height": 345
        },
        "id": "-oZP2Snluykf",
        "outputId": "283e8122-a9a8-4ae3-adf2-e6b29e983829"
      },
      "source": [
        "train = pd.read_excel(\"/content/Data_Train.xlsx\")\r\n",
        "train.head()"
      ],
      "execution_count": 11,
      "outputs": [
        {
          "output_type": "execute_result",
          "data": {
            "text/html": [
              "<div>\n",
              "<style scoped>\n",
              "    .dataframe tbody tr th:only-of-type {\n",
              "        vertical-align: middle;\n",
              "    }\n",
              "\n",
              "    .dataframe tbody tr th {\n",
              "        vertical-align: top;\n",
              "    }\n",
              "\n",
              "    .dataframe thead th {\n",
              "        text-align: right;\n",
              "    }\n",
              "</style>\n",
              "<table border=\"1\" class=\"dataframe\">\n",
              "  <thead>\n",
              "    <tr style=\"text-align: right;\">\n",
              "      <th></th>\n",
              "      <th>Title</th>\n",
              "      <th>Author</th>\n",
              "      <th>Edition</th>\n",
              "      <th>Reviews</th>\n",
              "      <th>Ratings</th>\n",
              "      <th>Synopsis</th>\n",
              "      <th>Genre</th>\n",
              "      <th>BookCategory</th>\n",
              "      <th>Price</th>\n",
              "    </tr>\n",
              "  </thead>\n",
              "  <tbody>\n",
              "    <tr>\n",
              "      <th>0</th>\n",
              "      <td>The Prisoner's Gold (The Hunters 3)</td>\n",
              "      <td>Chris Kuzneski</td>\n",
              "      <td>Paperback,– 10 Mar 2016</td>\n",
              "      <td>4.0 out of 5 stars</td>\n",
              "      <td>8 customer reviews</td>\n",
              "      <td>THE HUNTERS return in their third brilliant no...</td>\n",
              "      <td>Action &amp; Adventure (Books)</td>\n",
              "      <td>Action &amp; Adventure</td>\n",
              "      <td>220.00</td>\n",
              "    </tr>\n",
              "    <tr>\n",
              "      <th>1</th>\n",
              "      <td>Guru Dutt: A Tragedy in Three Acts</td>\n",
              "      <td>Arun Khopkar</td>\n",
              "      <td>Paperback,– 7 Nov 2012</td>\n",
              "      <td>3.9 out of 5 stars</td>\n",
              "      <td>14 customer reviews</td>\n",
              "      <td>A layered portrait of a troubled genius for wh...</td>\n",
              "      <td>Cinema &amp; Broadcast (Books)</td>\n",
              "      <td>Biographies, Diaries &amp; True Accounts</td>\n",
              "      <td>202.93</td>\n",
              "    </tr>\n",
              "    <tr>\n",
              "      <th>2</th>\n",
              "      <td>Leviathan (Penguin Classics)</td>\n",
              "      <td>Thomas Hobbes</td>\n",
              "      <td>Paperback,– 25 Feb 1982</td>\n",
              "      <td>4.8 out of 5 stars</td>\n",
              "      <td>6 customer reviews</td>\n",
              "      <td>\"During the time men live without a common Pow...</td>\n",
              "      <td>International Relations</td>\n",
              "      <td>Humour</td>\n",
              "      <td>299.00</td>\n",
              "    </tr>\n",
              "    <tr>\n",
              "      <th>3</th>\n",
              "      <td>A Pocket Full of Rye (Miss Marple)</td>\n",
              "      <td>Agatha Christie</td>\n",
              "      <td>Paperback,– 5 Oct 2017</td>\n",
              "      <td>4.1 out of 5 stars</td>\n",
              "      <td>13 customer reviews</td>\n",
              "      <td>A handful of grain is found in the pocket of a...</td>\n",
              "      <td>Contemporary Fiction (Books)</td>\n",
              "      <td>Crime, Thriller &amp; Mystery</td>\n",
              "      <td>180.00</td>\n",
              "    </tr>\n",
              "    <tr>\n",
              "      <th>4</th>\n",
              "      <td>LIFE 70 Years of Extraordinary Photography</td>\n",
              "      <td>Editors of Life</td>\n",
              "      <td>Hardcover,– 10 Oct 2006</td>\n",
              "      <td>5.0 out of 5 stars</td>\n",
              "      <td>1 customer review</td>\n",
              "      <td>For seven decades, \"Life\" has been thrilling t...</td>\n",
              "      <td>Photography Textbooks</td>\n",
              "      <td>Arts, Film &amp; Photography</td>\n",
              "      <td>965.62</td>\n",
              "    </tr>\n",
              "  </tbody>\n",
              "</table>\n",
              "</div>"
            ],
            "text/plain": [
              "                                        Title  ...   Price\n",
              "0         The Prisoner's Gold (The Hunters 3)  ...  220.00\n",
              "1          Guru Dutt: A Tragedy in Three Acts  ...  202.93\n",
              "2                Leviathan (Penguin Classics)  ...  299.00\n",
              "3          A Pocket Full of Rye (Miss Marple)  ...  180.00\n",
              "4  LIFE 70 Years of Extraordinary Photography  ...  965.62\n",
              "\n",
              "[5 rows x 9 columns]"
            ]
          },
          "metadata": {
            "tags": []
          },
          "execution_count": 11
        }
      ]
    },
    {
      "cell_type": "code",
      "metadata": {
        "colab": {
          "base_uri": "https://localhost:8080/",
          "height": 429
        },
        "id": "E0kV7v76ve-y",
        "outputId": "b121503b-c52b-43bb-b1e1-02646b1b21e9"
      },
      "source": [
        "train.describe(include='all')"
      ],
      "execution_count": 12,
      "outputs": [
        {
          "output_type": "execute_result",
          "data": {
            "text/html": [
              "<div>\n",
              "<style scoped>\n",
              "    .dataframe tbody tr th:only-of-type {\n",
              "        vertical-align: middle;\n",
              "    }\n",
              "\n",
              "    .dataframe tbody tr th {\n",
              "        vertical-align: top;\n",
              "    }\n",
              "\n",
              "    .dataframe thead th {\n",
              "        text-align: right;\n",
              "    }\n",
              "</style>\n",
              "<table border=\"1\" class=\"dataframe\">\n",
              "  <thead>\n",
              "    <tr style=\"text-align: right;\">\n",
              "      <th></th>\n",
              "      <th>Title</th>\n",
              "      <th>Author</th>\n",
              "      <th>Edition</th>\n",
              "      <th>Reviews</th>\n",
              "      <th>Ratings</th>\n",
              "      <th>Synopsis</th>\n",
              "      <th>Genre</th>\n",
              "      <th>BookCategory</th>\n",
              "      <th>Price</th>\n",
              "    </tr>\n",
              "  </thead>\n",
              "  <tbody>\n",
              "    <tr>\n",
              "      <th>count</th>\n",
              "      <td>6237</td>\n",
              "      <td>6237</td>\n",
              "      <td>6237</td>\n",
              "      <td>6237</td>\n",
              "      <td>6237</td>\n",
              "      <td>6237</td>\n",
              "      <td>6237</td>\n",
              "      <td>6237</td>\n",
              "      <td>6237.000000</td>\n",
              "    </tr>\n",
              "    <tr>\n",
              "      <th>unique</th>\n",
              "      <td>5568</td>\n",
              "      <td>3679</td>\n",
              "      <td>3370</td>\n",
              "      <td>36</td>\n",
              "      <td>342</td>\n",
              "      <td>5549</td>\n",
              "      <td>345</td>\n",
              "      <td>11</td>\n",
              "      <td>NaN</td>\n",
              "    </tr>\n",
              "    <tr>\n",
              "      <th>top</th>\n",
              "      <td>A Game of Thrones (A Song of Ice and Fire)</td>\n",
              "      <td>Agatha Christie</td>\n",
              "      <td>Paperback,– 5 Oct 2017</td>\n",
              "      <td>5.0 out of 5 stars</td>\n",
              "      <td>1 customer review</td>\n",
              "      <td>A Tinkle Double Digest is two Tinkle Digests i...</td>\n",
              "      <td>Action &amp; Adventure (Books)</td>\n",
              "      <td>Action &amp; Adventure</td>\n",
              "      <td>NaN</td>\n",
              "    </tr>\n",
              "    <tr>\n",
              "      <th>freq</th>\n",
              "      <td>4</td>\n",
              "      <td>69</td>\n",
              "      <td>48</td>\n",
              "      <td>1375</td>\n",
              "      <td>1040</td>\n",
              "      <td>8</td>\n",
              "      <td>947</td>\n",
              "      <td>818</td>\n",
              "      <td>NaN</td>\n",
              "    </tr>\n",
              "    <tr>\n",
              "      <th>mean</th>\n",
              "      <td>NaN</td>\n",
              "      <td>NaN</td>\n",
              "      <td>NaN</td>\n",
              "      <td>NaN</td>\n",
              "      <td>NaN</td>\n",
              "      <td>NaN</td>\n",
              "      <td>NaN</td>\n",
              "      <td>NaN</td>\n",
              "      <td>560.707516</td>\n",
              "    </tr>\n",
              "    <tr>\n",
              "      <th>std</th>\n",
              "      <td>NaN</td>\n",
              "      <td>NaN</td>\n",
              "      <td>NaN</td>\n",
              "      <td>NaN</td>\n",
              "      <td>NaN</td>\n",
              "      <td>NaN</td>\n",
              "      <td>NaN</td>\n",
              "      <td>NaN</td>\n",
              "      <td>690.110657</td>\n",
              "    </tr>\n",
              "    <tr>\n",
              "      <th>min</th>\n",
              "      <td>NaN</td>\n",
              "      <td>NaN</td>\n",
              "      <td>NaN</td>\n",
              "      <td>NaN</td>\n",
              "      <td>NaN</td>\n",
              "      <td>NaN</td>\n",
              "      <td>NaN</td>\n",
              "      <td>NaN</td>\n",
              "      <td>25.000000</td>\n",
              "    </tr>\n",
              "    <tr>\n",
              "      <th>25%</th>\n",
              "      <td>NaN</td>\n",
              "      <td>NaN</td>\n",
              "      <td>NaN</td>\n",
              "      <td>NaN</td>\n",
              "      <td>NaN</td>\n",
              "      <td>NaN</td>\n",
              "      <td>NaN</td>\n",
              "      <td>NaN</td>\n",
              "      <td>249.180000</td>\n",
              "    </tr>\n",
              "    <tr>\n",
              "      <th>50%</th>\n",
              "      <td>NaN</td>\n",
              "      <td>NaN</td>\n",
              "      <td>NaN</td>\n",
              "      <td>NaN</td>\n",
              "      <td>NaN</td>\n",
              "      <td>NaN</td>\n",
              "      <td>NaN</td>\n",
              "      <td>NaN</td>\n",
              "      <td>373.000000</td>\n",
              "    </tr>\n",
              "    <tr>\n",
              "      <th>75%</th>\n",
              "      <td>NaN</td>\n",
              "      <td>NaN</td>\n",
              "      <td>NaN</td>\n",
              "      <td>NaN</td>\n",
              "      <td>NaN</td>\n",
              "      <td>NaN</td>\n",
              "      <td>NaN</td>\n",
              "      <td>NaN</td>\n",
              "      <td>599.000000</td>\n",
              "    </tr>\n",
              "    <tr>\n",
              "      <th>max</th>\n",
              "      <td>NaN</td>\n",
              "      <td>NaN</td>\n",
              "      <td>NaN</td>\n",
              "      <td>NaN</td>\n",
              "      <td>NaN</td>\n",
              "      <td>NaN</td>\n",
              "      <td>NaN</td>\n",
              "      <td>NaN</td>\n",
              "      <td>14100.000000</td>\n",
              "    </tr>\n",
              "  </tbody>\n",
              "</table>\n",
              "</div>"
            ],
            "text/plain": [
              "                                             Title  ...         Price\n",
              "count                                         6237  ...   6237.000000\n",
              "unique                                        5568  ...           NaN\n",
              "top     A Game of Thrones (A Song of Ice and Fire)  ...           NaN\n",
              "freq                                             4  ...           NaN\n",
              "mean                                           NaN  ...    560.707516\n",
              "std                                            NaN  ...    690.110657\n",
              "min                                            NaN  ...     25.000000\n",
              "25%                                            NaN  ...    249.180000\n",
              "50%                                            NaN  ...    373.000000\n",
              "75%                                            NaN  ...    599.000000\n",
              "max                                            NaN  ...  14100.000000\n",
              "\n",
              "[11 rows x 9 columns]"
            ]
          },
          "metadata": {
            "tags": []
          },
          "execution_count": 12
        }
      ]
    },
    {
      "cell_type": "code",
      "metadata": {
        "colab": {
          "base_uri": "https://localhost:8080/"
        },
        "id": "lz-bW0tZvSTM",
        "outputId": "9ad5ffa6-51df-4670-eb2a-be78c5c48b3f"
      },
      "source": [
        "train.Author.unique()"
      ],
      "execution_count": 13,
      "outputs": [
        {
          "output_type": "execute_result",
          "data": {
            "text/plain": [
              "array(['Chris Kuzneski', 'Arun Khopkar', 'Thomas Hobbes', ...,\n",
              "       'Saba Naqvi', 'Tom Phillips', 'Stephenie Meyer'], dtype=object)"
            ]
          },
          "metadata": {
            "tags": []
          },
          "execution_count": 13
        }
      ]
    },
    {
      "cell_type": "code",
      "metadata": {
        "colab": {
          "base_uri": "https://localhost:8080/"
        },
        "id": "MCrpliUdvq5W",
        "outputId": "968c3135-8a57-4612-a4a1-b22e0c12f1c4"
      },
      "source": [
        "train.Reviews.unique()"
      ],
      "execution_count": 14,
      "outputs": [
        {
          "output_type": "execute_result",
          "data": {
            "text/plain": [
              "array(['4.0 out of 5 stars', '3.9 out of 5 stars', '4.8 out of 5 stars',\n",
              "       '4.1 out of 5 stars', '5.0 out of 5 stars', '4.5 out of 5 stars',\n",
              "       '4.4 out of 5 stars', '4.7 out of 5 stars', '4.2 out of 5 stars',\n",
              "       '4.9 out of 5 stars', '3.5 out of 5 stars', '3.8 out of 5 stars',\n",
              "       '4.3 out of 5 stars', '3.1 out of 5 stars', '4.6 out of 5 stars',\n",
              "       '2.0 out of 5 stars', '3.7 out of 5 stars', '3.2 out of 5 stars',\n",
              "       '2.6 out of 5 stars', '2.8 out of 5 stars', '3.4 out of 5 stars',\n",
              "       '2.9 out of 5 stars', '3.3 out of 5 stars', '3.0 out of 5 stars',\n",
              "       '2.5 out of 5 stars', '1.0 out of 5 stars', '3.6 out of 5 stars',\n",
              "       '2.7 out of 5 stars', '1.5 out of 5 stars', '2.3 out of 5 stars',\n",
              "       '1.7 out of 5 stars', '2.2 out of 5 stars', '1.4 out of 5 stars',\n",
              "       '2.4 out of 5 stars', '1.6 out of 5 stars', '2.1 out of 5 stars'],\n",
              "      dtype=object)"
            ]
          },
          "metadata": {
            "tags": []
          },
          "execution_count": 14
        }
      ]
    },
    {
      "cell_type": "code",
      "metadata": {
        "id": "ys3US_0b91w5"
      },
      "source": [
        "def extract_reviews(x):\r\n",
        "  val = x.split()\r\n",
        "  return float(val[0])\r\n",
        "\r\n",
        "def extract_ratings(x):\r\n",
        "  val = x.split()[0]\r\n",
        "  val = int(str(val).replace(',',''))\r\n",
        "  return val\r\n",
        "\r\n",
        "def extract_edition(x):\r\n",
        "  val = x.split()[0]\r\n",
        "  val = str(val).replace(',','')\r\n",
        "  val = str(val).replace('–',' ')\r\n",
        "  val = str(val).replace('(','')\r\n",
        "  val = str(val).replace(')',' ')\r\n",
        "  return val.strip()\r\n",
        "\r\n",
        "def Encode_Book_Category(df):\r\n",
        "  Books_Category = []\r\n",
        "  for items in train.BookCategory.unique():\r\n",
        "    for each in items.split(','):\r\n",
        "      for category in each.split('&'):\r\n",
        "        Books_Category.append(category.strip())\r\n",
        "\r\n",
        "  df = pd.concat([df, pd.DataFrame(columns=Books_Category)],ignore_index=True)\r\n",
        "\r\n",
        "  for col in Books_Category:\r\n",
        "    df[col] = df.BookCategory.apply(lambda x : 1 if col in x else 0)\r\n",
        "\r\n",
        "  return df\r\n"
      ],
      "execution_count": 29,
      "outputs": []
    },
    {
      "cell_type": "code",
      "metadata": {
        "colab": {
          "base_uri": "https://localhost:8080/"
        },
        "id": "qJHVGou4A6e0",
        "outputId": "2e6af814-3cb0-4fab-ca42-3d98c8a63677"
      },
      "source": [
        "train.Edition.unique()"
      ],
      "execution_count": 17,
      "outputs": [
        {
          "output_type": "execute_result",
          "data": {
            "text/plain": [
              "array(['Paperback,– 10 Mar 2016', 'Paperback,– 7 Nov 2012',\n",
              "       'Paperback,– 25 Feb 1982', ..., 'Paperback,– 26 Sep 2006',\n",
              "       'Paperback,– 21 Nov 2016', 'Paperback,– 15 Jan 2015'], dtype=object)"
            ]
          },
          "metadata": {
            "tags": []
          },
          "execution_count": 17
        }
      ]
    },
    {
      "cell_type": "code",
      "metadata": {
        "colab": {
          "base_uri": "https://localhost:8080/"
        },
        "id": "TBa8U5zkB9gJ",
        "outputId": "2d27612d-aaf5-4ca6-b073-3a592a2f705d"
      },
      "source": [
        "train['Cover'] = train.Edition.apply(extract_edition)\r\n",
        "train.Cover.unique()"
      ],
      "execution_count": 30,
      "outputs": [
        {
          "output_type": "execute_result",
          "data": {
            "text/plain": [
              "array(['Paperback', 'Hardcover', 'Mass', 'Sheet', 'Flexibound', 'Plastic',\n",
              "       'Loose', 'Tankobon', 'Perfect', 'Board', 'Cards', 'Spiral-bound',\n",
              "       'Kannada Paperback', 'Product', 'Library', 'German Paperback',\n",
              "       'Leather', 'French Paperback', 'Spanish Paperback'], dtype=object)"
            ]
          },
          "metadata": {
            "tags": []
          },
          "execution_count": 30
        }
      ]
    },
    {
      "cell_type": "code",
      "metadata": {
        "colab": {
          "base_uri": "https://localhost:8080/",
          "height": 424
        },
        "id": "O2UX2U0yDaDf",
        "outputId": "58871c71-1c3b-4efe-ea49-07f00b925d14"
      },
      "source": [
        "train[['Cover','Price']][train['Cover'].isin(['Paperback', 'Kannada Paperback'])]"
      ],
      "execution_count": 50,
      "outputs": [
        {
          "output_type": "execute_result",
          "data": {
            "text/html": [
              "<div>\n",
              "<style scoped>\n",
              "    .dataframe tbody tr th:only-of-type {\n",
              "        vertical-align: middle;\n",
              "    }\n",
              "\n",
              "    .dataframe tbody tr th {\n",
              "        vertical-align: top;\n",
              "    }\n",
              "\n",
              "    .dataframe thead th {\n",
              "        text-align: right;\n",
              "    }\n",
              "</style>\n",
              "<table border=\"1\" class=\"dataframe\">\n",
              "  <thead>\n",
              "    <tr style=\"text-align: right;\">\n",
              "      <th></th>\n",
              "      <th>Cover</th>\n",
              "      <th>Price</th>\n",
              "    </tr>\n",
              "  </thead>\n",
              "  <tbody>\n",
              "    <tr>\n",
              "      <th>0</th>\n",
              "      <td>Paperback</td>\n",
              "      <td>220.00</td>\n",
              "    </tr>\n",
              "    <tr>\n",
              "      <th>1</th>\n",
              "      <td>Paperback</td>\n",
              "      <td>202.93</td>\n",
              "    </tr>\n",
              "    <tr>\n",
              "      <th>2</th>\n",
              "      <td>Paperback</td>\n",
              "      <td>299.00</td>\n",
              "    </tr>\n",
              "    <tr>\n",
              "      <th>3</th>\n",
              "      <td>Paperback</td>\n",
              "      <td>180.00</td>\n",
              "    </tr>\n",
              "    <tr>\n",
              "      <th>5</th>\n",
              "      <td>Paperback</td>\n",
              "      <td>900.00</td>\n",
              "    </tr>\n",
              "    <tr>\n",
              "      <th>...</th>\n",
              "      <td>...</td>\n",
              "      <td>...</td>\n",
              "    </tr>\n",
              "    <tr>\n",
              "      <th>6232</th>\n",
              "      <td>Paperback</td>\n",
              "      <td>322.00</td>\n",
              "    </tr>\n",
              "    <tr>\n",
              "      <th>6233</th>\n",
              "      <td>Paperback</td>\n",
              "      <td>421.00</td>\n",
              "    </tr>\n",
              "    <tr>\n",
              "      <th>6234</th>\n",
              "      <td>Paperback</td>\n",
              "      <td>399.00</td>\n",
              "    </tr>\n",
              "    <tr>\n",
              "      <th>6235</th>\n",
              "      <td>Paperback</td>\n",
              "      <td>319.00</td>\n",
              "    </tr>\n",
              "    <tr>\n",
              "      <th>6236</th>\n",
              "      <td>Paperback</td>\n",
              "      <td>452.00</td>\n",
              "    </tr>\n",
              "  </tbody>\n",
              "</table>\n",
              "<p>5194 rows × 2 columns</p>\n",
              "</div>"
            ],
            "text/plain": [
              "          Cover   Price\n",
              "0     Paperback  220.00\n",
              "1     Paperback  202.93\n",
              "2     Paperback  299.00\n",
              "3     Paperback  180.00\n",
              "5     Paperback  900.00\n",
              "...         ...     ...\n",
              "6232  Paperback  322.00\n",
              "6233  Paperback  421.00\n",
              "6234  Paperback  399.00\n",
              "6235  Paperback  319.00\n",
              "6236  Paperback  452.00\n",
              "\n",
              "[5194 rows x 2 columns]"
            ]
          },
          "metadata": {
            "tags": []
          },
          "execution_count": 50
        }
      ]
    },
    {
      "cell_type": "code",
      "metadata": {
        "colab": {
          "base_uri": "https://localhost:8080/",
          "height": 348
        },
        "id": "bvZ0o7nF-cWs",
        "outputId": "30899638-d280-4a03-f618-d1ced8ca697b"
      },
      "source": [
        "train = Encode_Book_Category(train)\r\n",
        "train['Stars'] = train.Reviews.apply(extract_reviews)\r\n",
        "train['Review#'] = train.Ratings.apply(extract_ratings)\r\n",
        "train['Cover'] = train.Edition.apply(extract_edition)"
      ],
      "execution_count": 16,
      "outputs": [
        {
          "output_type": "execute_result",
          "data": {
            "text/html": [
              "<div>\n",
              "<style scoped>\n",
              "    .dataframe tbody tr th:only-of-type {\n",
              "        vertical-align: middle;\n",
              "    }\n",
              "\n",
              "    .dataframe tbody tr th {\n",
              "        vertical-align: top;\n",
              "    }\n",
              "\n",
              "    .dataframe thead th {\n",
              "        text-align: right;\n",
              "    }\n",
              "</style>\n",
              "<table border=\"1\" class=\"dataframe\">\n",
              "  <thead>\n",
              "    <tr style=\"text-align: right;\">\n",
              "      <th></th>\n",
              "      <th>Author</th>\n",
              "      <th>Edition</th>\n",
              "      <th>Price</th>\n",
              "      <th>Action</th>\n",
              "      <th>Adventure</th>\n",
              "      <th>Biographies</th>\n",
              "      <th>Diaries</th>\n",
              "      <th>True Accounts</th>\n",
              "      <th>Humour</th>\n",
              "      <th>Crime</th>\n",
              "      <th>Thriller</th>\n",
              "      <th>Mystery</th>\n",
              "      <th>Arts</th>\n",
              "      <th>Film</th>\n",
              "      <th>Photography</th>\n",
              "      <th>Sports</th>\n",
              "      <th>Language</th>\n",
              "      <th>Linguistics</th>\n",
              "      <th>Writing</th>\n",
              "      <th>Computing</th>\n",
              "      <th>Internet</th>\n",
              "      <th>Digital Media</th>\n",
              "      <th>Romance</th>\n",
              "      <th>Comics</th>\n",
              "      <th>Mangas</th>\n",
              "      <th>Politics</th>\n",
              "      <th>Stars</th>\n",
              "      <th>Review#</th>\n",
              "    </tr>\n",
              "  </thead>\n",
              "  <tbody>\n",
              "    <tr>\n",
              "      <th>0</th>\n",
              "      <td>Chris Kuzneski</td>\n",
              "      <td>Paperback,– 10 Mar 2016</td>\n",
              "      <td>220.00</td>\n",
              "      <td>1</td>\n",
              "      <td>1</td>\n",
              "      <td>0</td>\n",
              "      <td>0</td>\n",
              "      <td>0</td>\n",
              "      <td>0</td>\n",
              "      <td>0</td>\n",
              "      <td>0</td>\n",
              "      <td>0</td>\n",
              "      <td>0</td>\n",
              "      <td>0</td>\n",
              "      <td>0</td>\n",
              "      <td>0</td>\n",
              "      <td>0</td>\n",
              "      <td>0</td>\n",
              "      <td>0</td>\n",
              "      <td>0</td>\n",
              "      <td>0</td>\n",
              "      <td>0</td>\n",
              "      <td>0</td>\n",
              "      <td>0</td>\n",
              "      <td>0</td>\n",
              "      <td>0</td>\n",
              "      <td>4.0</td>\n",
              "      <td>8</td>\n",
              "    </tr>\n",
              "    <tr>\n",
              "      <th>1</th>\n",
              "      <td>Arun Khopkar</td>\n",
              "      <td>Paperback,– 7 Nov 2012</td>\n",
              "      <td>202.93</td>\n",
              "      <td>0</td>\n",
              "      <td>0</td>\n",
              "      <td>1</td>\n",
              "      <td>1</td>\n",
              "      <td>1</td>\n",
              "      <td>0</td>\n",
              "      <td>0</td>\n",
              "      <td>0</td>\n",
              "      <td>0</td>\n",
              "      <td>0</td>\n",
              "      <td>0</td>\n",
              "      <td>0</td>\n",
              "      <td>0</td>\n",
              "      <td>0</td>\n",
              "      <td>0</td>\n",
              "      <td>0</td>\n",
              "      <td>0</td>\n",
              "      <td>0</td>\n",
              "      <td>0</td>\n",
              "      <td>0</td>\n",
              "      <td>0</td>\n",
              "      <td>0</td>\n",
              "      <td>0</td>\n",
              "      <td>3.9</td>\n",
              "      <td>14</td>\n",
              "    </tr>\n",
              "    <tr>\n",
              "      <th>2</th>\n",
              "      <td>Thomas Hobbes</td>\n",
              "      <td>Paperback,– 25 Feb 1982</td>\n",
              "      <td>299.00</td>\n",
              "      <td>0</td>\n",
              "      <td>0</td>\n",
              "      <td>0</td>\n",
              "      <td>0</td>\n",
              "      <td>0</td>\n",
              "      <td>1</td>\n",
              "      <td>0</td>\n",
              "      <td>0</td>\n",
              "      <td>0</td>\n",
              "      <td>0</td>\n",
              "      <td>0</td>\n",
              "      <td>0</td>\n",
              "      <td>0</td>\n",
              "      <td>0</td>\n",
              "      <td>0</td>\n",
              "      <td>0</td>\n",
              "      <td>0</td>\n",
              "      <td>0</td>\n",
              "      <td>0</td>\n",
              "      <td>0</td>\n",
              "      <td>0</td>\n",
              "      <td>0</td>\n",
              "      <td>0</td>\n",
              "      <td>4.8</td>\n",
              "      <td>6</td>\n",
              "    </tr>\n",
              "    <tr>\n",
              "      <th>3</th>\n",
              "      <td>Agatha Christie</td>\n",
              "      <td>Paperback,– 5 Oct 2017</td>\n",
              "      <td>180.00</td>\n",
              "      <td>0</td>\n",
              "      <td>0</td>\n",
              "      <td>0</td>\n",
              "      <td>0</td>\n",
              "      <td>0</td>\n",
              "      <td>0</td>\n",
              "      <td>1</td>\n",
              "      <td>1</td>\n",
              "      <td>1</td>\n",
              "      <td>0</td>\n",
              "      <td>0</td>\n",
              "      <td>0</td>\n",
              "      <td>0</td>\n",
              "      <td>0</td>\n",
              "      <td>0</td>\n",
              "      <td>0</td>\n",
              "      <td>0</td>\n",
              "      <td>0</td>\n",
              "      <td>0</td>\n",
              "      <td>0</td>\n",
              "      <td>0</td>\n",
              "      <td>0</td>\n",
              "      <td>0</td>\n",
              "      <td>4.1</td>\n",
              "      <td>13</td>\n",
              "    </tr>\n",
              "    <tr>\n",
              "      <th>4</th>\n",
              "      <td>Editors of Life</td>\n",
              "      <td>Hardcover,– 10 Oct 2006</td>\n",
              "      <td>965.62</td>\n",
              "      <td>0</td>\n",
              "      <td>0</td>\n",
              "      <td>0</td>\n",
              "      <td>0</td>\n",
              "      <td>0</td>\n",
              "      <td>0</td>\n",
              "      <td>0</td>\n",
              "      <td>0</td>\n",
              "      <td>0</td>\n",
              "      <td>1</td>\n",
              "      <td>1</td>\n",
              "      <td>1</td>\n",
              "      <td>0</td>\n",
              "      <td>0</td>\n",
              "      <td>0</td>\n",
              "      <td>0</td>\n",
              "      <td>0</td>\n",
              "      <td>0</td>\n",
              "      <td>0</td>\n",
              "      <td>0</td>\n",
              "      <td>0</td>\n",
              "      <td>0</td>\n",
              "      <td>0</td>\n",
              "      <td>5.0</td>\n",
              "      <td>1</td>\n",
              "    </tr>\n",
              "  </tbody>\n",
              "</table>\n",
              "</div>"
            ],
            "text/plain": [
              "            Author                  Edition   Price  ...  Politics  Stars  Review#\n",
              "0   Chris Kuzneski  Paperback,– 10 Mar 2016  220.00  ...         0    4.0        8\n",
              "1     Arun Khopkar   Paperback,– 7 Nov 2012  202.93  ...         0    3.9       14\n",
              "2    Thomas Hobbes  Paperback,– 25 Feb 1982  299.00  ...         0    4.8        6\n",
              "3  Agatha Christie   Paperback,– 5 Oct 2017  180.00  ...         0    4.1       13\n",
              "4  Editors of Life  Hardcover,– 10 Oct 2006  965.62  ...         0    5.0        1\n",
              "\n",
              "[5 rows x 28 columns]"
            ]
          },
          "metadata": {
            "tags": []
          },
          "execution_count": 16
        }
      ]
    },
    {
      "cell_type": "code",
      "metadata": {
        "id": "eP5qGRaiFebH"
      },
      "source": [
        "train.drop(columns=['BookCategory', 'Genre', 'Ratings', 'Reviews','Title', 'Synopsis','Edition', 'Cover'],inplace = True)\r\n",
        "train.head()"
      ],
      "execution_count": null,
      "outputs": []
    }
  ]
}