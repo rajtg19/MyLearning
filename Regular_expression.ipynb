{
  "nbformat": 4,
  "nbformat_minor": 0,
  "metadata": {
    "colab": {
      "name": "Regular expression.ipynb",
      "provenance": [],
      "authorship_tag": "ABX9TyOtYw/yBRNBKldEaTv4sQAr",
      "include_colab_link": true
    },
    "kernelspec": {
      "name": "python3",
      "display_name": "Python 3"
    }
  },
  "cells": [
    {
      "cell_type": "markdown",
      "metadata": {
        "id": "view-in-github",
        "colab_type": "text"
      },
      "source": [
        "<a href=\"https://colab.research.google.com/github/rajtg19/MyLearning/blob/main/Regular_expression.ipynb\" target=\"_parent\"><img src=\"https://colab.research.google.com/assets/colab-badge.svg\" alt=\"Open In Colab\"/></a>"
      ]
    },
    {
      "cell_type": "code",
      "metadata": {
        "id": "sY_VWh44H-yb"
      },
      "source": [
        "import re"
      ],
      "execution_count": 1,
      "outputs": []
    },
    {
      "cell_type": "code",
      "metadata": {
        "id": "JkVZ2i7OIBjb"
      },
      "source": [
        "string = \"Tiger is the national animal of India\""
      ],
      "execution_count": 2,
      "outputs": []
    },
    {
      "cell_type": "code",
      "metadata": {
        "id": "SgOAkXKpIwK1"
      },
      "source": [
        "#Match check for the pattern at the starting of the string"
      ],
      "execution_count": null,
      "outputs": []
    },
    {
      "cell_type": "code",
      "metadata": {
        "colab": {
          "base_uri": "https://localhost:8080/"
        },
        "id": "toDJ3aEqIHGj",
        "outputId": "09d884dd-f936-4083-ada0-9b336b24c1d1"
      },
      "source": [
        "pattern = \"Tiger\"\r\n",
        "result = re.match(pattern, string)\r\n",
        "print(result)"
      ],
      "execution_count": 7,
      "outputs": [
        {
          "output_type": "stream",
          "text": [
            "<_sre.SRE_Match object; span=(0, 5), match='Tiger'>\n"
          ],
          "name": "stdout"
        }
      ]
    },
    {
      "cell_type": "code",
      "metadata": {
        "colab": {
          "base_uri": "https://localhost:8080/"
        },
        "id": "4Aq12S0RIm_C",
        "outputId": "6c8cafe2-0dc3-464c-f806-69e6c879b5b4"
      },
      "source": [
        "pattern = \"Tiger\"\r\n",
        "result = re.match(pattern, string).group(0)\r\n",
        "print(result)"
      ],
      "execution_count": 8,
      "outputs": [
        {
          "output_type": "stream",
          "text": [
            "Tiger\n"
          ],
          "name": "stdout"
        }
      ]
    },
    {
      "cell_type": "code",
      "metadata": {
        "colab": {
          "base_uri": "https://localhost:8080/"
        },
        "id": "gXUAInGKI38x",
        "outputId": "228affa7-d21b-4e1b-b491-e84823583863"
      },
      "source": [
        "pattern = \"national\"\r\n",
        "result = re.match(pattern, string)\r\n",
        "print(result)"
      ],
      "execution_count": 10,
      "outputs": [
        {
          "output_type": "stream",
          "text": [
            "None\n"
          ],
          "name": "stdout"
        }
      ]
    },
    {
      "cell_type": "code",
      "metadata": {
        "id": "_DtTbMP4I1MO"
      },
      "source": [
        "#Search option will search for pattern on the entire string"
      ],
      "execution_count": 11,
      "outputs": []
    },
    {
      "cell_type": "code",
      "metadata": {
        "colab": {
          "base_uri": "https://localhost:8080/"
        },
        "id": "yNxHBUviJHnB",
        "outputId": "1a74fab2-1b9f-4b35-a16c-2c363412c416"
      },
      "source": [
        "pattern = \"national\"\r\n",
        "result = re.search(pattern, string)\r\n",
        "print(result)"
      ],
      "execution_count": 12,
      "outputs": [
        {
          "output_type": "stream",
          "text": [
            "<_sre.SRE_Match object; span=(13, 21), match='national'>\n"
          ],
          "name": "stdout"
        }
      ]
    },
    {
      "cell_type": "code",
      "metadata": {
        "colab": {
          "base_uri": "https://localhost:8080/"
        },
        "id": "eKgvYQcwJMGI",
        "outputId": "c3ac8aae-8271-46bf-ea71-224d8ff994ed"
      },
      "source": [
        "pattern = \"national\"\r\n",
        "result = re.search(pattern, string).group(0)\r\n",
        "print(result)"
      ],
      "execution_count": 15,
      "outputs": [
        {
          "output_type": "stream",
          "text": [
            "national\n"
          ],
          "name": "stdout"
        }
      ]
    },
    {
      "cell_type": "code",
      "metadata": {
        "id": "VK8CDA-rJT5U"
      },
      "source": [
        "#To search for all the occurance use findall"
      ],
      "execution_count": 16,
      "outputs": []
    },
    {
      "cell_type": "code",
      "metadata": {
        "id": "80kP-jV9JbbT"
      },
      "source": [
        "string = \"The national animal is Tiger and the national sport is hockey\"\r\n",
        "pattern = \"national\"\r\n",
        "result = re.search(pattern, string)\r\n",
        "print(result)"
      ],
      "execution_count": null,
      "outputs": []
    }
  ]
}