{
  "nbformat": 4,
  "nbformat_minor": 0,
  "metadata": {
    "colab": {
      "name": "Regular expression.ipynb",
      "provenance": [],
      "authorship_tag": "ABX9TyMlEmXtwHuUjwUQ/4Nt9lVs",
      "include_colab_link": true
    },
    "kernelspec": {
      "name": "python3",
      "display_name": "Python 3"
    }
  },
  "cells": [
    {
      "cell_type": "markdown",
      "metadata": {
        "id": "view-in-github",
        "colab_type": "text"
      },
      "source": [
        "<a href=\"https://colab.research.google.com/github/rajtg19/MyLearning/blob/main/Regular_expression.ipynb\" target=\"_parent\"><img src=\"https://colab.research.google.com/assets/colab-badge.svg\" alt=\"Open In Colab\"/></a>"
      ]
    },
    {
      "cell_type": "code",
      "metadata": {
        "id": "sY_VWh44H-yb"
      },
      "source": [
        "import re"
      ],
      "execution_count": 1,
      "outputs": []
    },
    {
      "cell_type": "code",
      "metadata": {
        "id": "JkVZ2i7OIBjb"
      },
      "source": [
        "string = \"Tiger is the national animal of India\""
      ],
      "execution_count": 2,
      "outputs": []
    },
    {
      "cell_type": "code",
      "metadata": {
        "id": "SgOAkXKpIwK1"
      },
      "source": [
        "#Match check for the pattern at the starting of the string"
      ],
      "execution_count": 3,
      "outputs": []
    },
    {
      "cell_type": "code",
      "metadata": {
        "colab": {
          "base_uri": "https://localhost:8080/"
        },
        "id": "toDJ3aEqIHGj",
        "outputId": "0ea59b79-5102-479e-b75b-5d9140899dbd"
      },
      "source": [
        "pattern = \"Tiger\"\r\n",
        "result = re.match(pattern, string)\r\n",
        "print(result)"
      ],
      "execution_count": 4,
      "outputs": [
        {
          "output_type": "stream",
          "text": [
            "<_sre.SRE_Match object; span=(0, 5), match='Tiger'>\n"
          ],
          "name": "stdout"
        }
      ]
    },
    {
      "cell_type": "code",
      "metadata": {
        "colab": {
          "base_uri": "https://localhost:8080/"
        },
        "id": "4Aq12S0RIm_C",
        "outputId": "e054e175-87d0-4208-b22e-5b0573ce5dfe"
      },
      "source": [
        "pattern = \"Tiger\"\r\n",
        "result = re.match(pattern, string).group(0)\r\n",
        "print(result)"
      ],
      "execution_count": 5,
      "outputs": [
        {
          "output_type": "stream",
          "text": [
            "Tiger\n"
          ],
          "name": "stdout"
        }
      ]
    },
    {
      "cell_type": "code",
      "metadata": {
        "colab": {
          "base_uri": "https://localhost:8080/"
        },
        "id": "gXUAInGKI38x",
        "outputId": "7dc93f49-b9ce-469a-d832-44fb32284ce7"
      },
      "source": [
        "pattern = \"national\"\r\n",
        "result = re.match(pattern, string)\r\n",
        "print(result)"
      ],
      "execution_count": 6,
      "outputs": [
        {
          "output_type": "stream",
          "text": [
            "None\n"
          ],
          "name": "stdout"
        }
      ]
    },
    {
      "cell_type": "code",
      "metadata": {
        "id": "_DtTbMP4I1MO"
      },
      "source": [
        "#Search option will search for pattern on the entire string"
      ],
      "execution_count": 7,
      "outputs": []
    },
    {
      "cell_type": "code",
      "metadata": {
        "colab": {
          "base_uri": "https://localhost:8080/"
        },
        "id": "yNxHBUviJHnB",
        "outputId": "93dda85b-0702-46f1-c100-ecee4a31a61f"
      },
      "source": [
        "pattern = \"national\"\r\n",
        "result = re.search(pattern, string)\r\n",
        "print(result)"
      ],
      "execution_count": 8,
      "outputs": [
        {
          "output_type": "stream",
          "text": [
            "<_sre.SRE_Match object; span=(13, 21), match='national'>\n"
          ],
          "name": "stdout"
        }
      ]
    },
    {
      "cell_type": "code",
      "metadata": {
        "colab": {
          "base_uri": "https://localhost:8080/"
        },
        "id": "eKgvYQcwJMGI",
        "outputId": "bf07d366-6953-4ac3-9a03-a1ea356dd22c"
      },
      "source": [
        "pattern = \"national\"\r\n",
        "result = re.search(pattern, string).group(0)\r\n",
        "print(result)"
      ],
      "execution_count": 9,
      "outputs": [
        {
          "output_type": "stream",
          "text": [
            "national\n"
          ],
          "name": "stdout"
        }
      ]
    },
    {
      "cell_type": "code",
      "metadata": {
        "id": "VK8CDA-rJT5U"
      },
      "source": [
        "#To search for all the occurance use findall"
      ],
      "execution_count": null,
      "outputs": []
    },
    {
      "cell_type": "code",
      "metadata": {
        "id": "80kP-jV9JbbT",
        "colab": {
          "base_uri": "https://localhost:8080/"
        },
        "outputId": "c203914c-c7d0-4579-9596-a22ce5598a85"
      },
      "source": [
        "string = \"The national animal is Tiger and the national sport is hockey\"\r\n",
        "pattern = \"national\"\r\n",
        "result = re.findall(pattern, string)\r\n",
        "print(result)"
      ],
      "execution_count": 11,
      "outputs": [
        {
          "output_type": "stream",
          "text": [
            "['national', 'national']\n"
          ],
          "name": "stdout"
        }
      ]
    },
    {
      "cell_type": "code",
      "metadata": {
        "id": "yT6CnD6qxzAs"
      },
      "source": [
        "#Search using patter - Find all dates in the line"
      ],
      "execution_count": null,
      "outputs": []
    },
    {
      "cell_type": "code",
      "metadata": {
        "colab": {
          "base_uri": "https://localhost:8080/"
        },
        "id": "SXmkIEM7x3fJ",
        "outputId": "a769bc2e-5c8f-4401-fa63-a50861bb9d23"
      },
      "source": [
        "string = \"On 01-09-2019 i started my datascience learning which was a 06 months course/24 weeks program and finished the course on 31-03-2020\"\r\n",
        "pattern = r'\\d{2}-\\d{2}-\\d{4}'\r\n",
        "result = re.findall(pattern, string)\r\n",
        "print(result)"
      ],
      "execution_count": 14,
      "outputs": [
        {
          "output_type": "stream",
          "text": [
            "['01-09-2019', '31-03-2020']\n"
          ],
          "name": "stdout"
        }
      ]
    },
    {
      "cell_type": "code",
      "metadata": {
        "id": "0x4GfGh5y8bV"
      },
      "source": [
        "#Split string"
      ],
      "execution_count": 15,
      "outputs": []
    },
    {
      "cell_type": "code",
      "metadata": {
        "colab": {
          "base_uri": "https://localhost:8080/"
        },
        "id": "oFYj1kBzy-72",
        "outputId": "bb10a8b4-0fe2-42d6-93e1-2b9166e456f6"
      },
      "source": [
        "string =\"This is line1; This is line2; and so on\"\r\n",
        "pattern = r';\\s'\r\n",
        "\r\n",
        "result = re.split(pattern, string)\r\n",
        "print(result)\r\n"
      ],
      "execution_count": 19,
      "outputs": [
        {
          "output_type": "stream",
          "text": [
            "['This is line1', 'This is line2', 'and so on']\n"
          ],
          "name": "stdout"
        }
      ]
    },
    {
      "cell_type": "code",
      "metadata": {
        "id": "q5LQ8aTw0wBh"
      },
      "source": [
        "#Pattern replacement"
      ],
      "execution_count": 20,
      "outputs": []
    },
    {
      "cell_type": "code",
      "metadata": {
        "colab": {
          "base_uri": "https://localhost:8080/",
          "height": 36
        },
        "id": "uQIhXfim0z6l",
        "outputId": "03159be9-e241-4d3a-816c-12ddc41ed69f"
      },
      "source": [
        "string = \"This is <txt>; <txt> is doing his python classes\"\r\n",
        "pattern = '<txt>'\r\n",
        "replacement = 'Raj'\r\n",
        "re.sub(pattern, replacement, string)"
      ],
      "execution_count": 21,
      "outputs": [
        {
          "output_type": "execute_result",
          "data": {
            "application/vnd.google.colaboratory.intrinsic+json": {
              "type": "string"
            },
            "text/plain": [
              "'This is Raj; Raj is doing his python classes'"
            ]
          },
          "metadata": {
            "tags": []
          },
          "execution_count": 21
        }
      ]
    },
    {
      "cell_type": "code",
      "metadata": {
        "colab": {
          "base_uri": "https://localhost:8080/",
          "height": 36
        },
        "id": "w17EU17C1Z1G",
        "outputId": "72474e7c-c088-47f5-ce29-4dfacde596e0"
      },
      "source": [
        "re.sub(pattern, replacement, string, count=1)"
      ],
      "execution_count": 22,
      "outputs": [
        {
          "output_type": "execute_result",
          "data": {
            "application/vnd.google.colaboratory.intrinsic+json": {
              "type": "string"
            },
            "text/plain": [
              "'This is Raj; <txt> is doing his python classes'"
            ]
          },
          "metadata": {
            "tags": []
          },
          "execution_count": 22
        }
      ]
    },
    {
      "cell_type": "code",
      "metadata": {
        "colab": {
          "base_uri": "https://localhost:8080/"
        },
        "id": "hospq_Qw2GUV",
        "outputId": "7c144570-214c-4ce7-8e6f-90b509597d27"
      },
      "source": [
        "string = 'Raj T G 123'\r\n",
        "pattern = r'[A-Za-c0-4]'\r\n",
        "\r\n",
        "re.findall(pattern,string)"
      ],
      "execution_count": 26,
      "outputs": [
        {
          "output_type": "execute_result",
          "data": {
            "text/plain": [
              "['R', 'a', 'T', 'G', '1', '2', '3']"
            ]
          },
          "metadata": {
            "tags": []
          },
          "execution_count": 26
        }
      ]
    },
    {
      "cell_type": "code",
      "metadata": {
        "colab": {
          "base_uri": "https://localhost:8080/"
        },
        "id": "GAiCICs_2oO0",
        "outputId": "349bbd7c-9aab-4ad0-f049-2ac2951b8c08"
      },
      "source": [
        "string = 'Raj T G 123'\r\n",
        "pattern = r'[RjG2]'\r\n",
        "\r\n",
        "re.findall(pattern,string)"
      ],
      "execution_count": 27,
      "outputs": [
        {
          "output_type": "execute_result",
          "data": {
            "text/plain": [
              "['R', 'j', 'G', '2']"
            ]
          },
          "metadata": {
            "tags": []
          },
          "execution_count": 27
        }
      ]
    },
    {
      "cell_type": "code",
      "metadata": {
        "colab": {
          "base_uri": "https://localhost:8080/"
        },
        "id": "PwopFWE22zhO",
        "outputId": "afa1c57b-bc66-47cf-c974-405ff2aee885"
      },
      "source": [
        "string = 'Raj T G 123'\r\n",
        "pattern = r'[^RjG2]'\r\n",
        "\r\n",
        "re.findall(pattern,string)"
      ],
      "execution_count": 28,
      "outputs": [
        {
          "output_type": "execute_result",
          "data": {
            "text/plain": [
              "['a', ' ', 'T', ' ', ' ', '1', '3']"
            ]
          },
          "metadata": {
            "tags": []
          },
          "execution_count": 28
        }
      ]
    },
    {
      "cell_type": "code",
      "metadata": {
        "id": "sAP_URZU3AEd"
      },
      "source": [
        "#‘\\w’​→Matchesanalphanumericcharacter,i.e.,​a-z​,​A-Z​,and​0-9​.andunderscore,‘​_​’."
      ],
      "execution_count": null,
      "outputs": []
    },
    {
      "cell_type": "code",
      "metadata": {
        "colab": {
          "base_uri": "https://localhost:8080/"
        },
        "id": "XGPpxWf23COp",
        "outputId": "666ca6d2-79e7-45ba-f90b-728593b9367e"
      },
      "source": [
        "string = 'Raj T G 123'\r\n",
        "pattern = r'\\w'\r\n",
        "\r\n",
        "re.findall(pattern,string)"
      ],
      "execution_count": 29,
      "outputs": [
        {
          "output_type": "execute_result",
          "data": {
            "text/plain": [
              "['R', 'a', 'j', 'T', 'G', '1', '2', '3']"
            ]
          },
          "metadata": {
            "tags": []
          },
          "execution_count": 29
        }
      ]
    },
    {
      "cell_type": "code",
      "metadata": {
        "id": "fQkQhbxr3OXy"
      },
      "source": [
        "#‘​\\d​’→Matchesadigit,​0-9​\r\n",
        "#'\\D’ → ​Matchesanon-digit."
      ],
      "execution_count": 30,
      "outputs": []
    },
    {
      "cell_type": "code",
      "metadata": {
        "colab": {
          "base_uri": "https://localhost:8080/"
        },
        "id": "aBgJ0Bgk3SyE",
        "outputId": "af8f3d1f-3308-47dc-ee9f-66cfc008768a"
      },
      "source": [
        "pattern = r'\\d'\r\n",
        "re.findall(pattern,string)"
      ],
      "execution_count": 31,
      "outputs": [
        {
          "output_type": "execute_result",
          "data": {
            "text/plain": [
              "['1', '2', '3']"
            ]
          },
          "metadata": {
            "tags": []
          },
          "execution_count": 31
        }
      ]
    },
    {
      "cell_type": "code",
      "metadata": {
        "colab": {
          "base_uri": "https://localhost:8080/"
        },
        "id": "MD2NqKHe3asF",
        "outputId": "5eec14d2-c18f-455e-baa9-c941ad892ce5"
      },
      "source": [
        "pattern = r'\\D'\r\n",
        "re.findall(pattern,string)"
      ],
      "execution_count": 32,
      "outputs": [
        {
          "output_type": "execute_result",
          "data": {
            "text/plain": [
              "['R', 'a', 'j', ' ', 'T', ' ', 'G', ' ']"
            ]
          },
          "metadata": {
            "tags": []
          },
          "execution_count": 32
        }
      ]
    },
    {
      "cell_type": "code",
      "metadata": {
        "id": "00DFks3K3iUb"
      },
      "source": [
        "#‘​\\s​’→Matchesonewhitespacecharacter."
      ],
      "execution_count": null,
      "outputs": []
    },
    {
      "cell_type": "code",
      "metadata": {
        "colab": {
          "base_uri": "https://localhost:8080/"
        },
        "id": "JNB6ByI23k1s",
        "outputId": "7e99ea84-07c7-4f8b-d2a7-0b4e6c58be53"
      },
      "source": [
        "pattern = r'\\s'\r\n",
        "re.findall(pattern,string)"
      ],
      "execution_count": 33,
      "outputs": [
        {
          "output_type": "execute_result",
          "data": {
            "text/plain": [
              "[' ', ' ', ' ']"
            ]
          },
          "metadata": {
            "tags": []
          },
          "execution_count": 33
        }
      ]
    },
    {
      "cell_type": "code",
      "metadata": {
        "id": "rD2KeyIm3qv3"
      },
      "source": [
        "#​'\\S​’→Matchesonenon-whitespacecharacter"
      ],
      "execution_count": 34,
      "outputs": []
    },
    {
      "cell_type": "code",
      "metadata": {
        "colab": {
          "base_uri": "https://localhost:8080/"
        },
        "id": "NpusfpWa3srx",
        "outputId": "367c6b6b-aa2a-4dba-9cc8-ca4de3367fdb"
      },
      "source": [
        "pattern = r'\\S'\r\n",
        "re.findall(pattern,string)"
      ],
      "execution_count": 35,
      "outputs": [
        {
          "output_type": "execute_result",
          "data": {
            "text/plain": [
              "['R', 'a', 'j', 'T', 'G', '1', '2', '3']"
            ]
          },
          "metadata": {
            "tags": []
          },
          "execution_count": 35
        }
      ]
    },
    {
      "cell_type": "code",
      "metadata": {
        "id": "o04FtrD83ysa"
      },
      "source": [
        "#‘ . ’​→Matchesanycharacterexceptnewline(\\n)"
      ],
      "execution_count": 36,
      "outputs": []
    },
    {
      "cell_type": "code",
      "metadata": {
        "colab": {
          "base_uri": "https://localhost:8080/"
        },
        "id": "WlVAS0hs317X",
        "outputId": "aaabb30a-c019-40ce-eab5-e087465304cc"
      },
      "source": [
        "pattern = r'.'\r\n",
        "re.findall(pattern,string)"
      ],
      "execution_count": 37,
      "outputs": [
        {
          "output_type": "execute_result",
          "data": {
            "text/plain": [
              "['R', 'a', 'j', ' ', 'T', ' ', 'G', ' ', '1', '2', '3']"
            ]
          },
          "metadata": {
            "tags": []
          },
          "execution_count": 37
        }
      ]
    },
    {
      "cell_type": "code",
      "metadata": {
        "id": "8duV_s3C37Ks"
      },
      "source": [
        "# ^ ’​→Matchesbeginningofastring"
      ],
      "execution_count": null,
      "outputs": []
    },
    {
      "cell_type": "code",
      "metadata": {
        "colab": {
          "base_uri": "https://localhost:8080/"
        },
        "id": "bChS08m838vz",
        "outputId": "240b3587-3765-4b72-e32a-62fb4ec27cb4"
      },
      "source": [
        "pattern = r'\\w'\r\n",
        "print(re.findall(pattern,string))\r\n",
        "\r\n",
        "pattern = r'^\\w'\r\n",
        "print(re.findall(pattern,string))\r\n",
        "\r\n",
        "pattern = r'^[A-Z]\\w'\r\n",
        "print(re.findall(pattern,string))\r\n",
        "\r\n",
        "pattern = r'^[A-Z]'\r\n",
        "print(re.findall(pattern,string))"
      ],
      "execution_count": 46,
      "outputs": [
        {
          "output_type": "stream",
          "text": [
            "['R', 'a', 'j', 'T', 'G', '1', '2', '3']\n",
            "['R']\n",
            "['Ra']\n",
            "['R']\n"
          ],
          "name": "stdout"
        }
      ]
    },
    {
      "cell_type": "code",
      "metadata": {
        "id": "5DbQAqjs5QBJ"
      },
      "source": [
        " #$ ’​→Matchesendofastring."
      ],
      "execution_count": null,
      "outputs": []
    },
    {
      "cell_type": "code",
      "metadata": {
        "colab": {
          "base_uri": "https://localhost:8080/"
        },
        "id": "RwocSbyY5R9e",
        "outputId": "a05d96cb-90f2-4c5f-e4ef-81a6558b50e8"
      },
      "source": [
        "string = 'Hi guys'\r\n",
        "\r\n",
        "pattern = r'a-z\\$'\r\n",
        "print(re.match(pattern,string))\r\n"
      ],
      "execution_count": 62,
      "outputs": [
        {
          "output_type": "stream",
          "text": [
            "None\n"
          ],
          "name": "stdout"
        }
      ]
    },
    {
      "cell_type": "code",
      "metadata": {
        "id": "rGQgpIEj7itK"
      },
      "source": [
        "#Find Iter"
      ],
      "execution_count": null,
      "outputs": []
    },
    {
      "cell_type": "code",
      "metadata": {
        "colab": {
          "base_uri": "https://localhost:8080/"
        },
        "id": "Wl6XAbh07kkH",
        "outputId": "60f22a72-fa57-44ff-c0f3-89f28feaf782"
      },
      "source": [
        "string = \"Raj is learning. Raj is working\"\r\n",
        "x = re.finditer('Raj', string)\r\n",
        "\r\n",
        "for each_x in x:\r\n",
        "  print(each_x.start(),each_x.end())"
      ],
      "execution_count": 87,
      "outputs": [
        {
          "output_type": "stream",
          "text": [
            "0 3\n",
            "17 20\n"
          ],
          "name": "stdout"
        }
      ]
    },
    {
      "cell_type": "code",
      "metadata": {
        "colab": {
          "base_uri": "https://localhost:8080/",
          "height": 36
        },
        "id": "fscAjulX_w1J",
        "outputId": "9b39eabf-5ea2-476a-f21d-ffe1fcb3455d"
      },
      "source": [
        "skip = \"true\" \r\n",
        "a=\"this is going to end in 2019 I can't wait for the coming year\"\r\n",
        "result = re.sub(\"\\d{4}\", \"the coming year\", a)\r\n",
        "result"
      ],
      "execution_count": 93,
      "outputs": [
        {
          "output_type": "execute_result",
          "data": {
            "application/vnd.google.colaboratory.intrinsic+json": {
              "type": "string"
            },
            "text/plain": [
              "\"this is going to end in the coming year I can't wait for the coming year\""
            ]
          },
          "metadata": {
            "tags": []
          },
          "execution_count": 93
        }
      ]
    },
    {
      "cell_type": "code",
      "metadata": {
        "colab": {
          "base_uri": "https://localhost:8080/",
          "height": 36
        },
        "id": "pqDXSMTRGdOv",
        "outputId": "c17cd850-078f-4a94-f7c2-ab24a9f7f65a"
      },
      "source": [
        "re.search(\"food\",\"shoppers by more food\").group(0)"
      ],
      "execution_count": 97,
      "outputs": [
        {
          "output_type": "execute_result",
          "data": {
            "application/vnd.google.colaboratory.intrinsic+json": {
              "type": "string"
            },
            "text/plain": [
              "'food'"
            ]
          },
          "metadata": {
            "tags": []
          },
          "execution_count": 97
        }
      ]
    },
    {
      "cell_type": "code",
      "metadata": {
        "colab": {
          "base_uri": "https://localhost:8080/"
        },
        "id": "IPpTLdWzHE5H",
        "outputId": "049e3b69-0b4a-4d70-ca5c-fbca3015983a"
      },
      "source": [
        "#extract email \r\n",
        "\r\n",
        "string = \"This is my email ID raj_query@xuz.com\"\r\n",
        "\r\n",
        "re.search(\"([\\w]+)@([\\w.]+)\",string)"
      ],
      "execution_count": 137,
      "outputs": [
        {
          "output_type": "execute_result",
          "data": {
            "text/plain": [
              "<_sre.SRE_Match object; span=(20, 37), match='raj_query@xuz.com'>"
            ]
          },
          "metadata": {
            "tags": []
          },
          "execution_count": 137
        }
      ]
    }
  ]
}